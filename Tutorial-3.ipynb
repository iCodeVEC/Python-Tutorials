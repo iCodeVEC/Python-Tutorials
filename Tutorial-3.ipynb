{
 "cells": [
  {
   "cell_type": "markdown",
   "metadata": {},
   "source": [
    "# Python Tutorial - 3"
   ]
  },
  {
   "cell_type": "markdown",
   "metadata": {},
   "source": [
    "# Operators\n",
    "<h3>Types of Operator</h3>\n",
    "<p>Python language supports the following types of operators.</p>\n",
    "<ul class=\"list\">\n",
    "<li><p>Arithmetic Operators</p></li>\n",
    "<li><p>Comparison (Relational) Operators</p></li>\n",
    "<li><p>Assignment Operators</p></li>\n",
    "<li><p>Logical Operators</p></li>\n",
    "<li><p>Bitwise Operators</p></li>\n",
    "<li><p>Membership Operators</p></li>\n",
    "<li><p>Identity Operators</p></li>\n",
    "</ul>\n",
    "\n",
    "### Arithmetic Operators\n",
    "Known Operators"
   ]
  },
  {
   "cell_type": "code",
   "execution_count": 1,
   "metadata": {
    "collapsed": false
   },
   "outputs": [
    {
     "name": "stdout",
     "output_type": "stream",
     "text": [
      "30\n",
      "10\n",
      "-10\n",
      "200\n",
      "2\n",
      "0\n",
      "10\n",
      "0\n"
     ]
    }
   ],
   "source": [
    "a,b = 10,20\n",
    "print a + b\n",
    "print b - a\n",
    "print a - b\n",
    "print a * b\n",
    "print b / a\n",
    "print a / b\n",
    "print a % b\n",
    "print b % a"
   ]
  },
  {
   "cell_type": "markdown",
   "metadata": {},
   "source": [
    "##### New Operators"
   ]
  },
  {
   "cell_type": "code",
   "execution_count": 2,
   "metadata": {
    "collapsed": false
   },
   "outputs": [
    {
     "name": "stdout",
     "output_type": "stream",
     "text": [
      "8\n",
      "9\n",
      "1\n"
     ]
    }
   ],
   "source": [
    "print 2 ** 3 #Exponent\n",
    "print 3 ** 2 \n",
    "print 3 // 2 #Floor Division"
   ]
  },
  {
   "cell_type": "markdown",
   "metadata": {},
   "source": [
    "### Comparison Operators"
   ]
  },
  {
   "cell_type": "code",
   "execution_count": 3,
   "metadata": {
    "collapsed": false
   },
   "outputs": [
    {
     "name": "stdout",
     "output_type": "stream",
     "text": [
      "Line 1 - a is not equal to b\n",
      "Line 2 - a is not equal to b\n",
      "Line 3 - a is not equal to b\n",
      "Line 4 - a is not less than b\n",
      "Line 5 - a is greater than b\n",
      "Line 6 - a is either less than or equal to  b\n",
      "Line 7 - b is either greater than  or equal to b\n"
     ]
    }
   ],
   "source": [
    "#!/usr/bin/python\n",
    "\n",
    "a = 21\n",
    "b = 10\n",
    "c = 0\n",
    "\n",
    "if ( a == b ):\n",
    "   print \"Line 1 - a is equal to b\"\n",
    "else:\n",
    "   print \"Line 1 - a is not equal to b\"\n",
    "\n",
    "if ( a != b ):\n",
    "   print \"Line 2 - a is not equal to b\"\n",
    "else:\n",
    "   print \"Line 2 - a is equal to b\"\n",
    "\n",
    "if ( a <> b ):\n",
    "   print \"Line 3 - a is not equal to b\"\n",
    "else:\n",
    "   print \"Line 3 - a is equal to b\"\n",
    "\n",
    "if ( a < b ):\n",
    "   print \"Line 4 - a is less than b\" \n",
    "else:\n",
    "   print \"Line 4 - a is not less than b\"\n",
    "\n",
    "if ( a > b ):\n",
    "   print \"Line 5 - a is greater than b\"\n",
    "else:\n",
    "   print \"Line 5 - a is not greater than b\"\n",
    "\n",
    "a = 5;\n",
    "b = 20;\n",
    "if ( a <= b ):\n",
    "   print \"Line 6 - a is either less than or equal to  b\"\n",
    "else:\n",
    "   print \"Line 6 - a is neither less than nor equal to  b\"\n",
    "\n",
    "if ( b >= a ):\n",
    "   print \"Line 7 - b is either greater than  or equal to b\"\n",
    "else:\n",
    "   print \"Line 7 - b is neither greater than  nor equal to b\""
   ]
  },
  {
   "cell_type": "markdown",
   "metadata": {},
   "source": [
    "### Assignment Operators"
   ]
  },
  {
   "cell_type": "code",
   "execution_count": 4,
   "metadata": {
    "collapsed": false
   },
   "outputs": [
    {
     "name": "stdout",
     "output_type": "stream",
     "text": [
      "30\n",
      "10\n",
      "300\n"
     ]
    }
   ],
   "source": [
    "a,b = 10,20\n",
    "b+=a\n",
    "print b\n",
    "print a\n",
    "b*=a\n",
    "print b"
   ]
  },
  {
   "cell_type": "markdown",
   "metadata": {},
   "source": [
    "### Bitwise Operators\n",
    "a = 0011 1100\n",
    "\n",
    "b = 0000 1101\n",
    "\n",
    "-----------------\n",
    "\n",
    "a & b = 0000 1100\n",
    "\n",
    "a | b = 0011 1101\n",
    "\n",
    "a ^ b = 0011 0001\n",
    "\n",
    "~a  = 1100 0011 "
   ]
  },
  {
   "cell_type": "code",
   "execution_count": 6,
   "metadata": {
    "collapsed": false
   },
   "outputs": [
    {
     "name": "stdout",
     "output_type": "stream",
     "text": [
      "4\n",
      "6\n",
      "2\n",
      "-5\n"
     ]
    }
   ],
   "source": [
    "a,b = 4,6\n",
    "print a & b\n",
    "print a | b\n",
    "print a ^ b\n",
    "print ~a"
   ]
  },
  {
   "cell_type": "code",
   "execution_count": 1,
   "metadata": {
    "collapsed": false
   },
   "outputs": [
    {
     "name": "stdout",
     "output_type": "stream",
     "text": [
      "Line 1 - Value of c is  12\n",
      "Line 2 - Value of c is  61\n",
      "Line 3 - Value of c is  49\n",
      "Line 4 - Value of c is  -61\n",
      "Line 5 - Value of c is  240\n",
      "Line 6 - Value of c is  15\n"
     ]
    }
   ],
   "source": [
    "\n",
    "a = 60            # 60 = 0011 1100 \n",
    "b = 13            # 13 = 0000 1101 \n",
    "c = 0\n",
    "\n",
    "c = a & b;        # 12 = 0000 1100\n",
    "print \"Line 1 - Value of c is \", c\n",
    "\n",
    "c = a | b;        # 61 = 0011 1101 \n",
    "print \"Line 2 - Value of c is \", c\n",
    "\n",
    "c = a ^ b;        # 49 = 0011 0001\n",
    "print \"Line 3 - Value of c is \", c\n",
    "\n",
    "c = ~a;           # -61 = 1100 0011\n",
    "print \"Line 4 - Value of c is \", c\n",
    "\n",
    "c = a << 2;       # 240 = 1111 0000\n",
    "print \"Line 5 - Value of c is \", c\n",
    "\n",
    "c = a >> 2;       # 15 = 0000 1111\n",
    "print \"Line 6 - Value of c is \", c"
   ]
  },
  {
   "cell_type": "markdown",
   "metadata": {},
   "source": [
    "### Logical Operators\n",
    "    1. AND\n",
    "    2. OR\n",
    "    3. NOT"
   ]
  },
  {
   "cell_type": "code",
   "execution_count": 7,
   "metadata": {
    "collapsed": false
   },
   "outputs": [
    {
     "name": "stdout",
     "output_type": "stream",
     "text": [
      "False\n"
     ]
    }
   ],
   "source": [
    "a,b = 1,2\n",
    "print a>b and a<b"
   ]
  },
  {
   "cell_type": "code",
   "execution_count": 8,
   "metadata": {
    "collapsed": false
   },
   "outputs": [
    {
     "name": "stdout",
     "output_type": "stream",
     "text": [
      "True\n",
      "True\n"
     ]
    }
   ],
   "source": [
    "a = b = 2\n",
    "print a==b or a >b\n",
    "print not(a>b)\n"
   ]
  },
  {
   "cell_type": "markdown",
   "metadata": {},
   "source": [
    "### Membership Operators\n",
    "1. in\n",
    "2. not in"
   ]
  },
  {
   "cell_type": "code",
   "execution_count": 17,
   "metadata": {
    "collapsed": false
   },
   "outputs": [
    {
     "name": "stdout",
     "output_type": "stream",
     "text": [
      "True\n",
      "False\n",
      "True\n",
      "False\n"
     ]
    }
   ],
   "source": [
    "text = \"I am a Random text\"\n",
    "print \"Random\" in text\n",
    "print \"random\" in text\n",
    "print \"dom\" in text\n",
    "print \"aom\" in text"
   ]
  },
  {
   "cell_type": "markdown",
   "metadata": {},
   "source": [
    "### Identity Operators\n",
    "1. is \n",
    "2. is not"
   ]
  },
  {
   "cell_type": "code",
   "execution_count": 18,
   "metadata": {
    "collapsed": false
   },
   "outputs": [
    {
     "name": "stdout",
     "output_type": "stream",
     "text": [
      "False\n",
      "True\n",
      "True\n"
     ]
    }
   ],
   "source": [
    "x,y = 10,20\n",
    "print x is y\n",
    "print x is not y\n",
    "x = y = 10\n",
    "print x is y"
   ]
  },
  {
   "cell_type": "markdown",
   "metadata": {},
   "source": [
    "<h2>Python Operators Precedence</h2>\n",
    "<p>The following table lists all operators from highest precedence to lowest.</p>\n",
    "<table  class=\"table table-bordered\">\n",
    "<tr><th>Operator</th><th>Description</th></tr>\n",
    "<tr>\n",
    "<td>`**`</td>\n",
    "<td>Exponentiation (raise to the power)</td>\n",
    "</tr><tr>\n",
    "<td>~ + -</td>\n",
    "<td>Complement, unary plus and minus (method names for the last two are +@ and -@)</td>\n",
    "</tr><tr>\n",
    "<td>`* / % //`</td>\n",
    "<td>Multiply, divide, modulo and floor division</td>\n",
    "</tr><tr>\n",
    "<td>+ -</td>\n",
    "<td>Addition and subtraction</td>\n",
    "</tr>\n",
    "<tr>\n",
    "<td>&gt;&gt; &lt;&lt;</td>\n",
    "<td>Right and left bitwise shift</td>\n",
    "</tr><tr>\n",
    "<td>&amp;</td>\n",
    "<td>Bitwise 'AND'<td>\n",
    "</tr><tr>\n",
    "<td>^ |</td>\n",
    "<td>Bitwise exclusive `OR' and regular `OR'</td>\n",
    "</tr><tr>\n",
    "<td>&lt;= &lt; &gt; &gt;=</td>\n",
    "<td>Comparison operators</td>\n",
    "</tr><tr>\n",
    "<td>&lt;&gt; == !=</td>\n",
    "<td>Equality operators</td>\n",
    "</tr>\n",
    "<tr>\n",
    "<td>`= %= /= //= -= += *= **=`</td>\n",
    "<td>Assignment operators</td>\n",
    "</tr>\n",
    "<tr>\n",
    "<td>is is not</td>\n",
    "<td>**Identity operators**</td>\n",
    "</tr>\n",
    "<tr>\n",
    "<td>in not in</td>\n",
    "<td>**Membership operators**</td>\n",
    "</tr><tr>\n",
    "<td>not or and</td>\n",
    "<td>Logical operators</td>\n",
    "</tr>\n",
    "</table>"
   ]
  },
  {
   "cell_type": "markdown",
   "metadata": {},
   "source": [
    "# Decision Making\n",
    "1. if\n",
    "2. if else\n",
    "2. nested if"
   ]
  },
  {
   "cell_type": "markdown",
   "metadata": {},
   "source": [
    "\n",
    "\n",
    "`if(expression):\n",
    "    statement`"
   ]
  },
  {
   "cell_type": "code",
   "execution_count": 21,
   "metadata": {
    "collapsed": false
   },
   "outputs": [
    {
     "name": "stdout",
     "output_type": "stream",
     "text": [
      "Not Equal\n",
      "Yes Equal\n",
      "This is also printed\n",
      "Even this\n"
     ]
    }
   ],
   "source": [
    "x,y = 10,20\n",
    "if(x!=y):\n",
    "    print \"Not Equal\"\n",
    "    \n",
    "x,y = 2,2\n",
    "if(x==y):\n",
    "    print \"Yes Equal\"\n",
    "    print \"This is also printed\"\n",
    "    print \"Even this\""
   ]
  },
  {
   "cell_type": "markdown",
   "metadata": {},
   "source": [
    "`if(expression):\n",
    "    statement\n",
    "else:\n",
    "    statement`"
   ]
  },
  {
   "cell_type": "code",
   "execution_count": 23,
   "metadata": {
    "collapsed": false
   },
   "outputs": [
    {
     "name": "stdout",
     "output_type": "stream",
     "text": [
      "double digit\n"
     ]
    }
   ],
   "source": [
    "x=10\n",
    "if(x>=10):\n",
    "    print \"double digit\"\n",
    "else:\n",
    "    print \"single digit\""
   ]
  },
  {
   "cell_type": "markdown",
   "metadata": {},
   "source": [
    "`if(expression):\n",
    "    statement\n",
    "    if(expression):\n",
    "        statement`"
   ]
  },
  {
   "cell_type": "code",
   "execution_count": 25,
   "metadata": {
    "collapsed": false
   },
   "outputs": [
    {
     "name": "stdout",
     "output_type": "stream",
     "text": [
      "first satisfied\n",
      "2nd satisfied\n"
     ]
    }
   ],
   "source": [
    "a,b=10,20\n",
    "if(a>9):\n",
    "    print \"first satisfied\"\n",
    "    if(a==10):\n",
    "        print \"2nd satisfied\"\n",
    "        if(b<20):\n",
    "            print \"third satisfied\"\n",
    "            if(b==20):\n",
    "                print \"4th satisfied\""
   ]
  },
  {
   "cell_type": "code",
   "execution_count": 26,
   "metadata": {
    "collapsed": false
   },
   "outputs": [
    {
     "ename": "SyntaxError",
     "evalue": "invalid syntax (<ipython-input-26-8702e79c8d74>, line 4)",
     "output_type": "error",
     "traceback": [
      "\u001b[0;36m  File \u001b[0;32m\"<ipython-input-26-8702e79c8d74>\"\u001b[0;36m, line \u001b[0;32m4\u001b[0m\n\u001b[0;31m    else if(a>=10):\u001b[0m\n\u001b[0m          ^\u001b[0m\n\u001b[0;31mSyntaxError\u001b[0m\u001b[0;31m:\u001b[0m invalid syntax\n"
     ]
    }
   ],
   "source": [
    "a=10\n",
    "if(a<10):\n",
    "    print \"single\"\n",
    "else if(a>=10):\n",
    "    print \"double\""
   ]
  },
  {
   "cell_type": "code",
   "execution_count": 27,
   "metadata": {
    "collapsed": false
   },
   "outputs": [
    {
     "name": "stdout",
     "output_type": "stream",
     "text": [
      "double\n"
     ]
    }
   ],
   "source": [
    "a=10\n",
    "if(a<10):\n",
    "    print \"single\"\n",
    "elif(a>=10):\n",
    "    print \"double\""
   ]
  }
 ],
 "metadata": {
  "kernelspec": {
   "display_name": "Python 2",
   "language": "python",
   "name": "python2"
  },
  "language_info": {
   "codemirror_mode": {
    "name": "ipython",
    "version": 2
   },
   "file_extension": ".py",
   "mimetype": "text/x-python",
   "name": "python",
   "nbconvert_exporter": "python",
   "pygments_lexer": "ipython2",
   "version": "2.7.12"
  }
 },
 "nbformat": 4,
 "nbformat_minor": 2
}
