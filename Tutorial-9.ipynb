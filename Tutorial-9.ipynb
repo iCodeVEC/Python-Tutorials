{
 "cells": [
  {
   "cell_type": "markdown",
   "metadata": {},
   "source": [
    "# Tutorial 9\n",
    "\n",
    "## Database"
   ]
  },
  {
   "cell_type": "code",
   "execution_count": 9,
   "metadata": {
    "collapsed": false
   },
   "outputs": [
    {
     "name": "stdout",
     "output_type": "stream",
     "text": [
      "Time Inserted\n"
     ]
    }
   ],
   "source": [
    "import MySQLdb\n",
    "\n",
    "\n",
    "db = MySQLdb.connect(user='root', passwd='saran123', db='time',\n",
    "                             host='localhost', port=80)\n",
    "\n",
    "cursor = db.cursor()\n",
    "\n",
    "cursor.execute(\"insert into timer values(now())\")\n",
    "print \"Time Inserted\"\n",
    "\n"
   ]
  },
  {
   "cell_type": "code",
   "execution_count": 10,
   "metadata": {
    "collapsed": false
   },
   "outputs": [
    {
     "name": "stdout",
     "output_type": "stream",
     "text": [
      "2016-04-17 18:28:01\n",
      "2016-04-17 18:28:25\n",
      "2016-04-17 18:29:01\n",
      "2016-04-17 18:30:01\n",
      "2016-07-07 11:29:06\n",
      "2016-07-07 11:42:05\n",
      "2016-07-12 19:14:51\n",
      "2016-07-12 19:15:53\n",
      "2017-03-15 21:03:32\n",
      "2017-03-15 21:46:34\n",
      "2017-03-15 21:51:41\n",
      "2017-03-15 21:56:10\n"
     ]
    }
   ],
   "source": [
    "# execute the SQL query using execute() method.\n",
    "cursor.execute (\"select * from timer\")\n",
    "\n",
    "# fetch all of the rows from the query\n",
    "data = cursor.fetchall ()\n",
    "\n",
    "# print the rows\n",
    "for row in data :\n",
    "    print row[0]"
   ]
  },
  {
   "cell_type": "code",
   "execution_count": 11,
   "metadata": {
    "collapsed": true
   },
   "outputs": [],
   "source": [
    "db.commit()"
   ]
  },
  {
   "cell_type": "code",
   "execution_count": 17,
   "metadata": {
    "collapsed": false
   },
   "outputs": [
    {
     "name": "stdout",
     "output_type": "stream",
     "text": [
      "1\n"
     ]
    }
   ],
   "source": [
    "print cursor.execute(\"insert into timer values(now())\")"
   ]
  },
  {
   "cell_type": "code",
   "execution_count": 18,
   "metadata": {
    "collapsed": false
   },
   "outputs": [
    {
     "name": "stdout",
     "output_type": "stream",
     "text": [
      "2016-04-17 18:28:01\n",
      "2016-04-17 18:28:25\n",
      "2016-04-17 18:29:01\n",
      "2016-04-17 18:30:01\n",
      "2016-07-07 11:29:06\n",
      "2016-07-07 11:42:05\n",
      "2016-07-12 19:14:51\n",
      "2016-07-12 19:15:53\n",
      "2017-03-15 21:03:32\n",
      "2017-03-15 21:46:34\n",
      "2017-03-15 21:51:41\n",
      "2017-03-15 21:56:10\n",
      "2017-03-15 21:58:23\n",
      "2017-03-15 21:58:35\n",
      "2017-03-15 21:58:51\n"
     ]
    }
   ],
   "source": [
    "# execute the SQL query using execute() method.\n",
    "cursor.execute (\"select * from timer\")\n",
    "\n",
    "# fetch all of the rows from the query\n",
    "data = cursor.fetchall ()\n",
    "\n",
    "# print the rows\n",
    "for row in data :\n",
    "    print row[0]"
   ]
  },
  {
   "cell_type": "code",
   "execution_count": 19,
   "metadata": {
    "collapsed": true
   },
   "outputs": [],
   "source": [
    "db.rollback()"
   ]
  },
  {
   "cell_type": "code",
   "execution_count": 20,
   "metadata": {
    "collapsed": false
   },
   "outputs": [
    {
     "name": "stdout",
     "output_type": "stream",
     "text": [
      "2016-04-17 18:28:01\n",
      "2016-04-17 18:28:25\n",
      "2016-04-17 18:29:01\n",
      "2016-04-17 18:30:01\n",
      "2016-07-07 11:29:06\n",
      "2016-07-07 11:42:05\n",
      "2016-07-12 19:14:51\n",
      "2016-07-12 19:15:53\n",
      "2017-03-15 21:03:32\n",
      "2017-03-15 21:46:34\n",
      "2017-03-15 21:51:41\n",
      "2017-03-15 21:56:10\n"
     ]
    }
   ],
   "source": [
    "# execute the SQL query using execute() method.\n",
    "cursor.execute (\"select * from timer\")\n",
    "\n",
    "# fetch all of the rows from the query\n",
    "data = cursor.fetchall ()\n",
    "\n",
    "# print the rows\n",
    "for row in data :\n",
    "    print row[0]"
   ]
  },
  {
   "cell_type": "code",
   "execution_count": null,
   "metadata": {
    "collapsed": true
   },
   "outputs": [],
   "source": []
  }
 ],
 "metadata": {
  "kernelspec": {
   "display_name": "Python 2",
   "language": "python",
   "name": "python2"
  },
  "language_info": {
   "codemirror_mode": {
    "name": "ipython",
    "version": 2
   },
   "file_extension": ".py",
   "mimetype": "text/x-python",
   "name": "python",
   "nbconvert_exporter": "python",
   "pygments_lexer": "ipython2",
   "version": "2.7.6"
  }
 },
 "nbformat": 4,
 "nbformat_minor": 1
}
