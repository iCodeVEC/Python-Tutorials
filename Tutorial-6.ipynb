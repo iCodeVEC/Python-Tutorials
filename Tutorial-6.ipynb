{
 "cells": [
  {
   "cell_type": "markdown",
   "metadata": {},
   "source": [
    "# Tutorial 6\n",
    "\n",
    "## Functions\n",
    "`def functionname( parameters ):\n",
    "   \"function_docstring\"\n",
    "   function_suite\n",
    "   return [expression]`"
   ]
  },
  {
   "cell_type": "code",
   "execution_count": 1,
   "metadata": {
    "collapsed": false
   },
   "outputs": [
    {
     "name": "stdout",
     "output_type": "stream",
     "text": [
      "test\n"
     ]
    }
   ],
   "source": [
    "def printme( str ):\n",
    "   \"This prints a passed string into this function\"\n",
    "   print str\n",
    "    \n",
    "printme(\"test\")"
   ]
  },
  {
   "cell_type": "markdown",
   "metadata": {},
   "source": [
    "### Return Values"
   ]
  },
  {
   "cell_type": "code",
   "execution_count": 20,
   "metadata": {
    "collapsed": false
   },
   "outputs": [
    {
     "name": "stdout",
     "output_type": "stream",
     "text": [
      "6\n",
      "9\n"
     ]
    }
   ],
   "source": [
    "def sum(a,b):\n",
    "    return a+b\n",
    "\n",
    "def vsum(a,b):\n",
    "    t=a+b\n",
    "    return t\n",
    "\n",
    "print sum(2,4)\n",
    "print vsum(4,5)"
   ]
  },
  {
   "cell_type": "markdown",
   "metadata": {},
   "source": [
    "### Pass by reference vs value"
   ]
  },
  {
   "cell_type": "code",
   "execution_count": 7,
   "metadata": {
    "collapsed": false
   },
   "outputs": [
    {
     "name": "stdout",
     "output_type": "stream",
     "text": [
      "inside: 20\n",
      "Outside: 10\n"
     ]
    }
   ],
   "source": [
    "def change(a):\n",
    "    a=20\n",
    "    print \"inside:\",a\n",
    "\n",
    "x=10\n",
    "change(x)\n",
    "print \"Outside:\",x"
   ]
  },
  {
   "cell_type": "code",
   "execution_count": 8,
   "metadata": {
    "collapsed": false
   },
   "outputs": [
    {
     "name": "stdout",
     "output_type": "stream",
     "text": [
      "Values inside the function:  [10, 20, 30, 1]\n",
      "Values outside the function:  [10, 20, 30, 1]\n"
     ]
    }
   ],
   "source": [
    "# Function definition is here\n",
    "def changeme( mylist ):\n",
    "   \"This changes a passed list into this function\"\n",
    "   mylist.append(1);\n",
    "   print \"Values inside the function: \", mylist\n",
    "   return\n",
    "\n",
    "# Now you can call changeme function\n",
    "mylist = [10,20,30];\n",
    "changeme( mylist );\n",
    "print \"Values outside the function: \", mylist"
   ]
  },
  {
   "cell_type": "markdown",
   "metadata": {},
   "source": [
    "## Function Arguments\n",
    "\n",
    "\n",
    "   * Required arguments\n",
    "\n",
    "   * Keyword arguments\n",
    "\n",
    "   * Default arguments\n",
    "\n",
    "   * Variable-length arguments\n",
    "   \n",
    "### Required arguments \n"
   ]
  },
  {
   "cell_type": "code",
   "execution_count": 9,
   "metadata": {
    "collapsed": false
   },
   "outputs": [
    {
     "ename": "TypeError",
     "evalue": "printme() takes exactly 1 argument (0 given)",
     "output_type": "error",
     "traceback": [
      "\u001b[0;31m---------------------------------------------------------------------------\u001b[0m",
      "\u001b[0;31mTypeError\u001b[0m                                 Traceback (most recent call last)",
      "\u001b[0;32m<ipython-input-9-b31996685a8b>\u001b[0m in \u001b[0;36m<module>\u001b[0;34m()\u001b[0m\n\u001b[1;32m      6\u001b[0m \u001b[0;34m\u001b[0m\u001b[0m\n\u001b[1;32m      7\u001b[0m \u001b[0;31m# Now you can call printme function\u001b[0m\u001b[0;34m\u001b[0m\u001b[0;34m\u001b[0m\u001b[0m\n\u001b[0;32m----> 8\u001b[0;31m \u001b[0mprintme\u001b[0m\u001b[0;34m(\u001b[0m\u001b[0;34m)\u001b[0m\u001b[0;34m\u001b[0m\u001b[0m\n\u001b[0m",
      "\u001b[0;31mTypeError\u001b[0m: printme() takes exactly 1 argument (0 given)"
     ]
    }
   ],
   "source": [
    "# Function definition is here\n",
    "def printme( str ):\n",
    "   \"This prints a passed string into this function\"\n",
    "   print str\n",
    "   return;\n",
    "\n",
    "# Now you can call printme function\n",
    "printme()"
   ]
  },
  {
   "cell_type": "markdown",
   "metadata": {},
   "source": [
    "### Keyword arguments"
   ]
  },
  {
   "cell_type": "code",
   "execution_count": 10,
   "metadata": {
    "collapsed": false
   },
   "outputs": [
    {
     "name": "stdout",
     "output_type": "stream",
     "text": [
      "Hello\n"
     ]
    }
   ],
   "source": [
    "# Function definition is here\n",
    "def printme( str ):\n",
    "   \"This prints a passed string into this function\"\n",
    "   print str\n",
    "   return;\n",
    "\n",
    "# Now you can call printme function\n",
    "printme(str=\"Hello\")"
   ]
  },
  {
   "cell_type": "code",
   "execution_count": 13,
   "metadata": {
    "collapsed": false
   },
   "outputs": [
    {
     "name": "stdout",
     "output_type": "stream",
     "text": [
      "Name:  xyz\n",
      "Age  50\n",
      "Name:  abc\n",
      "Age  20\n"
     ]
    }
   ],
   "source": [
    "# Function definition is here\n",
    "def printinfo( name, age ):\n",
    "   \"This prints a passed info into this function\"\n",
    "   print \"Name: \", name\n",
    "   print \"Age \", age\n",
    "\n",
    "# Now you can call printinfo function\n",
    "printinfo( age=50, name=\"xyz\" )\n",
    "printinfo('abc',20)"
   ]
  },
  {
   "cell_type": "markdown",
   "metadata": {},
   "source": [
    "### Default arguments"
   ]
  },
  {
   "cell_type": "code",
   "execution_count": 14,
   "metadata": {
    "collapsed": false
   },
   "outputs": [
    {
     "name": "stdout",
     "output_type": "stream",
     "text": [
      "Name:  xyz\n",
      "Age  35\n",
      "Name:  abc\n",
      "Age  20\n"
     ]
    }
   ],
   "source": [
    "# Function definition is here\n",
    "def printinfo( name, age = 35 ):\n",
    "   \"This prints a passed info into this function\"\n",
    "   print \"Name: \", name\n",
    "   print \"Age \", age\n",
    "\n",
    "printinfo(\"xyz\")\n",
    "printinfo(\"abc\",20)"
   ]
  },
  {
   "cell_type": "markdown",
   "metadata": {},
   "source": [
    "### Variable-length arguments\n",
    "`def functionname([formal_args,] *var_args_tuple ):\n",
    "   \"function_docstring\"\n",
    "   function_suite\n",
    "   return [expression]`"
   ]
  },
  {
   "cell_type": "code",
   "execution_count": 15,
   "metadata": {
    "collapsed": false
   },
   "outputs": [
    {
     "name": "stdout",
     "output_type": "stream",
     "text": [
      "Output is: \n",
      "10\n",
      "Output is: \n",
      "70\n",
      "60\n",
      "50\n"
     ]
    }
   ],
   "source": [
    "\n",
    "# Function definition is here\n",
    "def printinfo( a, *var ):\n",
    "   \"This prints a variable passed arguments\"\n",
    "   print \"Output is: \"\n",
    "   print a\n",
    "   for i in var:\n",
    "      print i\n",
    "   \n",
    "\n",
    "# Now you can call printinfo function\n",
    "printinfo( 10 )\n",
    "printinfo( 70, 60, 50 )"
   ]
  },
  {
   "cell_type": "code",
   "execution_count": 17,
   "metadata": {
    "collapsed": false
   },
   "outputs": [
    {
     "name": "stdout",
     "output_type": "stream",
     "text": [
      "1\n",
      "2\n",
      "3\n",
      "4\n",
      "5\n",
      "Next Call\n",
      "1\n",
      "2\n"
     ]
    }
   ],
   "source": [
    "def test(*a):\n",
    "    for i in a:\n",
    "        print i\n",
    "        \n",
    "test(1,2,3,4,5)\n",
    "print \"Next Call\"\n",
    "test(1,2)"
   ]
  },
  {
   "cell_type": "markdown",
   "metadata": {},
   "source": [
    "## The Anonymous Functions\n",
    "\n",
    "**_Lambda_** is an Anonymous Function \n",
    "<br><br>\n",
    "\n",
    "`lambda [arg1 [,arg2,.....argn]]:expression`"
   ]
  },
  {
   "cell_type": "code",
   "execution_count": 18,
   "metadata": {
    "collapsed": false
   },
   "outputs": [
    {
     "name": "stdout",
     "output_type": "stream",
     "text": [
      "Value of total :  30\n",
      "Value of total :  40\n"
     ]
    }
   ],
   "source": [
    "# Function definition is here\n",
    "sum = lambda a, b: a + b;\n",
    "\n",
    " \n",
    "\n",
    "# Now you can call sum as a function\n",
    "print \"Value of total : \", sum( 10, 20 )\n",
    "print \"Value of total : \", sum( 20, 20 )"
   ]
  },
  {
   "cell_type": "markdown",
   "metadata": {},
   "source": [
    "## Global vs. Local variables"
   ]
  },
  {
   "cell_type": "code",
   "execution_count": 21,
   "metadata": {
    "collapsed": false
   },
   "outputs": [
    {
     "name": "stdout",
     "output_type": "stream",
     "text": [
      "Inside the function local total :  30\n",
      "Outside the function global total :  0\n"
     ]
    }
   ],
   "source": [
    "\n",
    "total = 0; # This is global variable.\n",
    "\n",
    "def sum( arg1, arg2 ):\n",
    "   # Add both the parameters and return them.\"\n",
    "   total = arg1 + arg2;\n",
    "   print \"Inside the function local total : \", total\n",
    "   return total\n",
    "\n",
    "\n",
    "sum( 10, 20 )\n",
    "print \"Outside the function global total : \", total "
   ]
  },
  {
   "cell_type": "markdown",
   "metadata": {},
   "source": [
    "## Use Of Pass"
   ]
  },
  {
   "cell_type": "code",
   "execution_count": 26,
   "metadata": {
    "collapsed": false
   },
   "outputs": [
    {
     "name": "stdout",
     "output_type": "stream",
     "text": [
      "Called Func\n"
     ]
    }
   ],
   "source": [
    "def donothing():\n",
    "    pass\n",
    "\n",
    "donothing() \n",
    "print \"Called Func\"\n",
    "\n"
   ]
  },
  {
   "cell_type": "code",
   "execution_count": 27,
   "metadata": {
    "collapsed": false
   },
   "outputs": [
    {
     "ename": "IndentationError",
     "evalue": "expected an indented block (<ipython-input-27-6047e6e18f86>, line 3)",
     "output_type": "error",
     "traceback": [
      "\u001b[0;36m  File \u001b[0;32m\"<ipython-input-27-6047e6e18f86>\"\u001b[0;36m, line \u001b[0;32m3\u001b[0m\n\u001b[0;31m    wopass()\u001b[0m\n\u001b[0m         ^\u001b[0m\n\u001b[0;31mIndentationError\u001b[0m\u001b[0;31m:\u001b[0m expected an indented block\n"
     ]
    }
   ],
   "source": [
    "def wopass():\n",
    "    \n",
    "wopass()\n",
    "print \"Called Func\""
   ]
  },
  {
   "cell_type": "markdown",
   "metadata": {},
   "source": [
    "# Assignment - 1\n",
    "\n",
    "**Fibonocci and Factorial using Functions*"
   ]
  },
  {
   "cell_type": "code",
   "execution_count": 1,
   "metadata": {
    "collapsed": false
   },
   "outputs": [
    {
     "name": "stdout",
     "output_type": "stream",
     "text": [
      "\n"
     ]
    }
   ],
   "source": [
    "\"\"\"def fib(a):\n",
    "       ...\n",
    "       ...\n",
    "       ...\n",
    "       return ans\n",
    " def fact(a):\n",
    "       ...\n",
    "       return ans\n",
    "     \n",
    "inputs= ...\n",
    "\n",
    "#Function Calls\"\"\"  \n",
    "print \"\""
   ]
  }
 ],
 "metadata": {
  "kernelspec": {
   "display_name": "Python 2",
   "language": "python",
   "name": "python2"
  },
  "language_info": {
   "codemirror_mode": {
    "name": "ipython",
    "version": 2
   },
   "file_extension": ".py",
   "mimetype": "text/x-python",
   "name": "python",
   "nbconvert_exporter": "python",
   "pygments_lexer": "ipython2",
   "version": "2.7.12"
  }
 },
 "nbformat": 4,
 "nbformat_minor": 2
}
