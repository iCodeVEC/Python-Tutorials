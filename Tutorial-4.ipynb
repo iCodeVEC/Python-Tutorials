{
 "cells": [
  {
   "cell_type": "markdown",
   "metadata": {},
   "source": [
    "# Python Tutorial - 4\n",
    "\n",
    "## Python Lists\n",
    "They are mutable."
   ]
  },
  {
   "cell_type": "code",
   "execution_count": 2,
   "metadata": {
    "collapsed": false
   },
   "outputs": [
    {
     "name": "stdout",
     "output_type": "stream",
     "text": [
      "[1, 2, 3] ['str1', 'str2'] [12.0, 22.0, 77.1]\n"
     ]
    }
   ],
   "source": [
    "a = [1,2,3]\n",
    "b = ['str1','str2']\n",
    "c = [12.0,22.0,77.1]\n",
    "\n",
    "print a,b,c"
   ]
  },
  {
   "cell_type": "code",
   "execution_count": 3,
   "metadata": {
    "collapsed": false
   },
   "outputs": [
    {
     "name": "stdout",
     "output_type": "stream",
     "text": [
      "[1, 2, 3, 4, 5] [1, 'test', (2+3j), 24.6]\n"
     ]
    }
   ],
   "source": [
    "a = [1,2,3,4,5]\n",
    "b = [1,'test',2+3j,24.6]\n",
    "\n",
    "print a,b"
   ]
  },
  {
   "cell_type": "code",
   "execution_count": 4,
   "metadata": {
    "collapsed": false
   },
   "outputs": [
    {
     "name": "stdout",
     "output_type": "stream",
     "text": [
      "list1[0]:  physics\n",
      "list2[1:5]:  [2, 3, 4, 5]\n"
     ]
    }
   ],
   "source": [
    "\n",
    "list1 = ['physics', 'chemistry', 1997, 2000];\n",
    "list2 = [1, 2, 3, 4, 5, 6, 7 ];\n",
    "\n",
    "print \"list1[0]: \", list1[0]\n",
    "print \"list2[1:5]: \", list2[1:5]"
   ]
  },
  {
   "cell_type": "code",
   "execution_count": 5,
   "metadata": {
    "collapsed": false
   },
   "outputs": [
    {
     "name": "stdout",
     "output_type": "stream",
     "text": [
      "77\n",
      "str\n"
     ]
    }
   ],
   "source": [
    "a = ['str',25.6,77,18,45]\n",
    "\n",
    "print a[2]\n",
    "print a[0]"
   ]
  },
  {
   "cell_type": "markdown",
   "metadata": {},
   "source": [
    "### Delete an element from List\n",
    "*del* operator is used to delete an element"
   ]
  },
  {
   "cell_type": "code",
   "execution_count": 6,
   "metadata": {
    "collapsed": false
   },
   "outputs": [
    {
     "name": "stdout",
     "output_type": "stream",
     "text": [
      "[1, 2, 3, 4, 5, 6]\n",
      "[1, 2, 4, 5, 6]\n",
      "[1, 2]\n"
     ]
    }
   ],
   "source": [
    "a = [1,2,3,4,5,6]\n",
    "\n",
    "print a\n",
    "\n",
    "del a[2]\n",
    "print a\n",
    "\n",
    "del a[2:]\n",
    "print a"
   ]
  },
  {
   "cell_type": "code",
   "execution_count": 8,
   "metadata": {
    "collapsed": false
   },
   "outputs": [
    {
     "name": "stdout",
     "output_type": "stream",
     "text": [
      "[1, 3, 'abc']\n",
      "[1, 'abc']\n"
     ]
    }
   ],
   "source": [
    "a = [1,2,3,'abc','str']\n",
    "\n",
    "a.remove(2)\n",
    "a.remove('str')\n",
    "\n",
    "print a\n",
    "\n",
    "a.remove(a[1])\n",
    "\n",
    "print a"
   ]
  },
  {
   "cell_type": "markdown",
   "metadata": {},
   "source": [
    "### Basic List Operations"
   ]
  },
  {
   "cell_type": "code",
   "execution_count": 10,
   "metadata": {
    "collapsed": false
   },
   "outputs": [
    {
     "name": "stdout",
     "output_type": "stream",
     "text": [
      "4\n",
      "[1, 2, 3, 5, 6, 7]\n",
      "[1, 2, 3, 1, 2, 3, 1, 2, 3]\n",
      "['str', 'str', 'str', 'str', 'str']\n",
      "True\n"
     ]
    }
   ],
   "source": [
    "a = [1,'str',10,20]\n",
    "b,c = [1,2,3],[5,6,7]\n",
    "s = ['str']\n",
    "\n",
    "print len(a)\n",
    "print b + c\n",
    "print b*3\n",
    "print s*5\n",
    "print 3 in b\n"
   ]
  },
  {
   "cell_type": "markdown",
   "metadata": {},
   "source": [
    "### Indexing, Slicing, and Matrixes"
   ]
  },
  {
   "cell_type": "code",
   "execution_count": 11,
   "metadata": {
    "collapsed": false
   },
   "outputs": [
    {
     "name": "stdout",
     "output_type": "stream",
     "text": [
      "5\n",
      "[3, 4, 5, 6, 7]\n",
      "[0, 1, 2, 3, 4, 5]\n",
      "[2, 3, 4, 5, 6]\n",
      "4\n",
      "[0, 1]\n",
      "[2, 3, 4, 5, 6, 7]\n"
     ]
    }
   ],
   "source": [
    "a = [0,1,2,3,4,5,6,7]\n",
    "\n",
    "print a[5]\n",
    "print a[3:]\n",
    "print a[:6]\n",
    "print a[2:7]\n",
    "print a[-4]\n",
    "print a[:-6]\n",
    "print a[-6:]"
   ]
  },
  {
   "cell_type": "markdown",
   "metadata": {},
   "source": [
    "<h3>Built-in List Functions &amp; Methods:</h3>\n",
    "<p>Python includes the following list functions &minus;</p>\n",
    "<table class=\"table table-bordered\">\n",
    "<tr>\n",
    "<th style=\"width:5%\">SN</th><th style=\"width:95%\">Function with Description</th></tr>\n",
    "<tr><td>1</td><td><p><a href=\"https://www.tutorialspoint.com/python/list_cmp.htm\">cmp(list1, list2)</a></p><br />Compares elements of both lists.</td></tr>\n",
    "<tr><td>2</td><td><p><a href=\"https://www.tutorialspoint.com/python/list_len.htm\">len(list)</a></p><br />Gives the total length of the list.</td></tr>\n",
    "<tr><td>3</td><td><p><a href=\"https://www.tutorialspoint.com/python/list_max.htm\">max(list)</a></p><br />Returns item from the list with max value.</td></tr>\n",
    "<tr><td>4</td><td><p><a href=\"https://www.tutorialspoint.com/python/list_min.htm\">min(list)</a></p><br />Returns item from the list with min value.</td></tr>\n",
    "<tr><td>5</td><td><p><a href=\"https://www.tutorialspoint.com/python/list_list.htm\">list(seq)</a></p><br />Converts a tuple into list.</td></tr>\n",
    "</table>\n",
    "<p>Python includes following list methods</p>\n",
    "<table class=\"table table-bordered\">\n",
    "<tr>\n",
    "<th style=\"width:5%\">SN</th><th style=\"width:95%\">Methods with Description</th></tr>\n",
    "<tr><td>1</td><td><p><a href=\"https://www.tutorialspoint.com/python/list_append.htm\">list.append(obj)</a></p><br />Appends object obj to list</td></tr>\n",
    "<tr><td>2</td><td><p><a href=\"https://www.tutorialspoint.com/python/list_count.htm\">list.count(obj)</a></p><br />Returns count of how many times obj occurs in list</td></tr>\n",
    "<tr><td>3</td><td><p><a href=\"https://www.tutorialspoint.com/python/list_extend.htm\">list.extend(seq)</a></p><br />Appends the contents of seq to list</td></tr>\n",
    "<tr><td>4</td><td><p><a href=\"https://www.tutorialspoint.com/python/list_index.htm\">list.index(obj)</a></p><br />Returns the lowest index in list that obj appears</td></tr>\n",
    "<tr><td>5</td><td><p><a href=\"https://www.tutorialspoint.com/python/list_insert.htm\">list.insert(index, obj)</a></p><br />Inserts object obj into list at offset index</td></tr>\n",
    "<tr><td>6</td><td><p><a href=\"https://www.tutorialspoint.com/python/list_pop.htm\">list.pop(obj=list[-1])</a></p><br />Removes and returns last object or obj from list</td></tr>\n",
    "<tr><td>7</td><td><p><a href=\"https://www.tutorialspoint.com/python/list_remove.htm\">list.remove(obj)</a></p><br />Removes object obj from list</td></tr>\n",
    "<tr><td>8</td><td><p><a href=\"https://www.tutorialspoint.com/python/list_reverse.htm\">list.reverse()</a></p><br />Reverses objects of list in place</td></tr>\n",
    "<tr><td>9</td><td><p><a href=\"https://www.tutorialspoint.com/python/list_sort.htm\">list.sort([func])</a></p><br />Sorts objects of list, use compare func if given</td></tr>\n",
    "</table>"
   ]
  },
  {
   "cell_type": "markdown",
   "metadata": {},
   "source": [
    "## Python Tuples\n",
    "\n",
    "A tuple is a sequence of immutable Python objects. Tuples are sequences, just like lists. The differences between tuples and lists are, the tuples cannot be changed unlike lists and tuples use parentheses, whereas lists use square brackets.\n",
    "\n",
    "### Assignment"
   ]
  },
  {
   "cell_type": "code",
   "execution_count": 12,
   "metadata": {
    "collapsed": false
   },
   "outputs": [
    {
     "name": "stdout",
     "output_type": "stream",
     "text": [
      "('physics', 'chemistry', 1997, 2000) (1, 2, 3, 4, 5) ('a', 'b', 'c', 'd')\n"
     ]
    }
   ],
   "source": [
    "t1 = ('physics', 'chemistry', 1997, 2000);\n",
    "t2 = (1, 2, 3, 4, 5 );\n",
    "t3 = \"a\", \"b\", \"c\", \"d\";\n",
    "\n",
    "print t1,t2,t3"
   ]
  },
  {
   "cell_type": "code",
   "execution_count": 15,
   "metadata": {
    "collapsed": false
   },
   "outputs": [
    {
     "name": "stdout",
     "output_type": "stream",
     "text": [
      "(1, 2, 3, 4, 5, 2, 3, 4, 9)\n"
     ]
    },
    {
     "ename": "TypeError",
     "evalue": "can only concatenate tuple (not \"list\") to tuple",
     "output_type": "error",
     "traceback": [
      "\u001b[0;31m---------------------------------------------------------------------------\u001b[0m",
      "\u001b[0;31mTypeError\u001b[0m                                 Traceback (most recent call last)",
      "\u001b[0;32m<ipython-input-15-5619ef652d8a>\u001b[0m in \u001b[0;36m<module>\u001b[0;34m()\u001b[0m\n\u001b[1;32m      3\u001b[0m \u001b[0;34m\u001b[0m\u001b[0m\n\u001b[1;32m      4\u001b[0m \u001b[0;32mprint\u001b[0m \u001b[0mt\u001b[0m \u001b[0;34m+\u001b[0m \u001b[0;34m(\u001b[0m\u001b[0;36m2\u001b[0m\u001b[0;34m,\u001b[0m\u001b[0;36m3\u001b[0m\u001b[0;34m,\u001b[0m\u001b[0;36m4\u001b[0m\u001b[0;34m,\u001b[0m\u001b[0;36m9\u001b[0m\u001b[0;34m)\u001b[0m\u001b[0;34m\u001b[0m\u001b[0m\n\u001b[0;32m----> 5\u001b[0;31m \u001b[0;32mprint\u001b[0m \u001b[0mt\u001b[0m \u001b[0;34m+\u001b[0m \u001b[0;34m[\u001b[0m\u001b[0;36m2\u001b[0m\u001b[0;34m,\u001b[0m\u001b[0;36m3\u001b[0m\u001b[0;34m,\u001b[0m\u001b[0;36m4\u001b[0m\u001b[0;34m,\u001b[0m\u001b[0;36m9\u001b[0m\u001b[0;34m]\u001b[0m\u001b[0;34m\u001b[0m\u001b[0m\n\u001b[0m",
      "\u001b[0;31mTypeError\u001b[0m: can only concatenate tuple (not \"list\") to tuple"
     ]
    }
   ],
   "source": [
    "t = 1,2,3,4,5\n",
    "\n",
    "\n",
    "print t + (2,3,4,9)\n",
    "print t + [2,3,4,9]"
   ]
  },
  {
   "cell_type": "markdown",
   "metadata": {},
   "source": [
    "### Deleting"
   ]
  },
  {
   "cell_type": "code",
   "execution_count": 16,
   "metadata": {
    "collapsed": false
   },
   "outputs": [
    {
     "name": "stdout",
     "output_type": "stream",
     "text": [
      "('physics', 'chemistry', 1997, 2000)\n",
      "After deleting tup : \n"
     ]
    },
    {
     "ename": "NameError",
     "evalue": "name 'tup' is not defined",
     "output_type": "error",
     "traceback": [
      "\u001b[0;31m---------------------------------------------------------------------------\u001b[0m",
      "\u001b[0;31mNameError\u001b[0m                                 Traceback (most recent call last)",
      "\u001b[0;32m<ipython-input-16-1eb69965b76a>\u001b[0m in \u001b[0;36m<module>\u001b[0;34m()\u001b[0m\n\u001b[1;32m      5\u001b[0m \u001b[0;32mdel\u001b[0m \u001b[0mtup\u001b[0m\u001b[0;34m;\u001b[0m\u001b[0;34m\u001b[0m\u001b[0m\n\u001b[1;32m      6\u001b[0m \u001b[0;32mprint\u001b[0m \u001b[0;34m\"After deleting tup : \"\u001b[0m\u001b[0;34m\u001b[0m\u001b[0m\n\u001b[0;32m----> 7\u001b[0;31m \u001b[0;32mprint\u001b[0m \u001b[0mtup\u001b[0m\u001b[0;34m\u001b[0m\u001b[0m\n\u001b[0m",
      "\u001b[0;31mNameError\u001b[0m: name 'tup' is not defined"
     ]
    }
   ],
   "source": [
    "\n",
    "tup = ('physics', 'chemistry', 1997, 2000);\n",
    "\n",
    "print tup\n",
    "del tup;\n",
    "print \"After deleting tup : \"\n",
    "print tup"
   ]
  },
  {
   "cell_type": "code",
   "execution_count": 17,
   "metadata": {
    "collapsed": false
   },
   "outputs": [
    {
     "name": "stdout",
     "output_type": "stream",
     "text": [
      "3\n"
     ]
    },
    {
     "ename": "TypeError",
     "evalue": "'tuple' object doesn't support item deletion",
     "output_type": "error",
     "traceback": [
      "\u001b[0;31m---------------------------------------------------------------------------\u001b[0m",
      "\u001b[0;31mTypeError\u001b[0m                                 Traceback (most recent call last)",
      "\u001b[0;32m<ipython-input-17-65d181436a76>\u001b[0m in \u001b[0;36m<module>\u001b[0;34m()\u001b[0m\n\u001b[1;32m      2\u001b[0m \u001b[0;34m\u001b[0m\u001b[0m\n\u001b[1;32m      3\u001b[0m \u001b[0;32mprint\u001b[0m \u001b[0mt\u001b[0m\u001b[0;34m[\u001b[0m\u001b[0;36m2\u001b[0m\u001b[0;34m]\u001b[0m\u001b[0;34m\u001b[0m\u001b[0m\n\u001b[0;32m----> 4\u001b[0;31m \u001b[0;32mdel\u001b[0m \u001b[0mt\u001b[0m\u001b[0;34m[\u001b[0m\u001b[0;36m2\u001b[0m\u001b[0;34m]\u001b[0m\u001b[0;34m\u001b[0m\u001b[0m\n\u001b[0m",
      "\u001b[0;31mTypeError\u001b[0m: 'tuple' object doesn't support item deletion"
     ]
    }
   ],
   "source": [
    "t = 1,2,3,4\n",
    "\n",
    "print t[2]\n",
    "del t[2]"
   ]
  },
  {
   "cell_type": "markdown",
   "metadata": {},
   "source": [
    "### list to tuple"
   ]
  },
  {
   "cell_type": "code",
   "execution_count": 18,
   "metadata": {
    "collapsed": false
   },
   "outputs": [
    {
     "name": "stdout",
     "output_type": "stream",
     "text": [
      "[1, 2, 3, 4] (1, 2, 3, 4)\n",
      "[1, 2, 3, 4] (1, 2, 3, 4) [1, 2, 3, 4]\n"
     ]
    }
   ],
   "source": [
    "a = [1,2,3,4]\n",
    "\n",
    "t = tuple(a)\n",
    "\n",
    "print a,t\n",
    "\n",
    "l = list(t)\n",
    "\n",
    "print a,t,l"
   ]
  },
  {
   "cell_type": "markdown",
   "metadata": {},
   "source": [
    "### Tuple Operations"
   ]
  },
  {
   "cell_type": "code",
   "execution_count": 19,
   "metadata": {
    "collapsed": false
   },
   "outputs": [
    {
     "name": "stdout",
     "output_type": "stream",
     "text": [
      "4\n",
      "(1, 2, 3, 4, 1, 2, 3, 4)\n",
      "True\n"
     ]
    }
   ],
   "source": [
    "a = 1,2,3,4\n",
    "\n",
    "print len(a)\n",
    "print a*2\n",
    "print 4 in a"
   ]
  },
  {
   "cell_type": "markdown",
   "metadata": {},
   "source": [
    "<h3>Built-in Tuple Functions</h3>\n",
    "<p>Python includes the following tuple functions &minus;</p>\n",
    "<table class=\"table table-bordered\">\n",
    "<tr>\n",
    "<th style=\"width:5%\">SN</th><th style=\"width:95%\">Function with Description</th></tr>\n",
    "<tr><td>1</td><td><p><a href=\"https://www.tutorialspoint.com/python/tuple_cmp.htm\">cmp(tuple1, tuple2)</a></p><br />Compares elements of both tuples.</td></tr>\n",
    "<tr><td>2</td><td><p><a href=\"https://www.tutorialspoint.com/python/tuple_len.htm\">len(tuple)</a></p><br />Gives the total length of the tuple.</td></tr>\n",
    "<tr><td>3</td><td><p><a href=\"https://www.tutorialspoint.com/python/tuple_max.htm\">max(tuple)</a></p><br />Returns item from the tuple with max value.</td></tr>\n",
    "<tr><td>4</td><td><p><a href=\"https://www.tutorialspoint.com/python/tuple_min.htm\">min(tuple)</a></p><br />Returns item from the tuple with min value.</td></tr>\n",
    "<tr><td>5</td><td><p><a href=\"https://www.tutorialspoint.com/python/tuple_tuple.htm\">tuple(seq)</a></p><br />Converts a list into tuple.</td></tr>\n",
    "</table>"
   ]
  },
  {
   "cell_type": "markdown",
   "metadata": {},
   "source": [
    "## Dictionary\n",
    "\n",
    "### Accessing Values in Dictionary"
   ]
  },
  {
   "cell_type": "code",
   "execution_count": 20,
   "metadata": {
    "collapsed": false
   },
   "outputs": [
    {
     "name": "stdout",
     "output_type": "stream",
     "text": [
      "value\n"
     ]
    }
   ],
   "source": [
    "data = {'key':'value'}\n",
    "\n",
    "print data['key']"
   ]
  },
  {
   "cell_type": "code",
   "execution_count": 23,
   "metadata": {
    "collapsed": false
   },
   "outputs": [
    {
     "name": "stdout",
     "output_type": "stream",
     "text": [
      "{'class': 'cse', 'roll': 19, 'name': 'xyz'}\n",
      "19\n",
      "cse\n"
     ]
    }
   ],
   "source": [
    "data = {'roll':19,'name':'xyz','class':'cse'}\n",
    "\n",
    "print data\n",
    "print data['roll']\n",
    "print data['class']"
   ]
  },
  {
   "cell_type": "code",
   "execution_count": 25,
   "metadata": {
    "collapsed": false
   },
   "outputs": [
    {
     "name": "stdout",
     "output_type": "stream",
     "text": [
      "{'test': 25, 1: 'xyz'}\n",
      "xyz\n",
      "{'test': 25, 1: 'Change'}\n"
     ]
    }
   ],
   "source": [
    "dit = {1:'xyz','test':25}\n",
    "\n",
    "print dit\n",
    "print dit[1]\n",
    "\n",
    "dit[1]=\"Change\"\n",
    "\n",
    "print dit"
   ]
  },
  {
   "cell_type": "markdown",
   "metadata": {},
   "source": [
    "### Delete Dictionary Elements"
   ]
  },
  {
   "cell_type": "code",
   "execution_count": 1,
   "metadata": {
    "collapsed": false
   },
   "outputs": [
    {
     "name": "stdout",
     "output_type": "stream",
     "text": [
      "dict['Age']: "
     ]
    },
    {
     "ename": "TypeError",
     "evalue": "'type' object has no attribute '__getitem__'",
     "output_type": "error",
     "traceback": [
      "\u001b[0;31m---------------------------------------------------------------------------\u001b[0m",
      "\u001b[0;31mTypeError\u001b[0m                                 Traceback (most recent call last)",
      "\u001b[0;32m<ipython-input-1-eefd8c43da51>\u001b[0m in \u001b[0;36m<module>\u001b[0;34m()\u001b[0m\n\u001b[1;32m      6\u001b[0m \u001b[0;32mdel\u001b[0m \u001b[0mdict\u001b[0m \u001b[0;34m;\u001b[0m        \u001b[0;31m# delete entire dictionary\u001b[0m\u001b[0;34m\u001b[0m\u001b[0m\n\u001b[1;32m      7\u001b[0m \u001b[0;34m\u001b[0m\u001b[0m\n\u001b[0;32m----> 8\u001b[0;31m \u001b[0;32mprint\u001b[0m \u001b[0;34m\"dict['Age']: \"\u001b[0m\u001b[0;34m,\u001b[0m \u001b[0mdict\u001b[0m\u001b[0;34m[\u001b[0m\u001b[0;34m'Age'\u001b[0m\u001b[0;34m]\u001b[0m\u001b[0;34m\u001b[0m\u001b[0m\n\u001b[0m\u001b[1;32m      9\u001b[0m \u001b[0;32mprint\u001b[0m \u001b[0;34m\"dict['School']: \"\u001b[0m\u001b[0;34m,\u001b[0m \u001b[0mdict\u001b[0m\u001b[0;34m[\u001b[0m\u001b[0;34m'School'\u001b[0m\u001b[0;34m]\u001b[0m\u001b[0;34m\u001b[0m\u001b[0m\n",
      "\u001b[0;31mTypeError\u001b[0m: 'type' object has no attribute '__getitem__'"
     ]
    }
   ],
   "source": [
    "\n",
    "dict = {'Name': 'Zara', 'Age': 7, 'Class': 'First'}\n",
    "\n",
    "del dict['Name']; # remove entry with key 'Name'\n",
    "dict.clear();     # remove all entries in dict\n",
    "del dict ;        # delete entire dictionary\n",
    "\n",
    "print \"dict['Age']: \", dict['Age']\n",
    "print \"dict['School']: \", dict['School']"
   ]
  },
  {
   "cell_type": "markdown",
   "metadata": {},
   "source": [
    "<h3>Built-in Dictionary Functions &amp; Methods &minus;</h3>\n",
    "<p>Python includes the following dictionary functions &minus;</p>\n",
    "<table class=\"table table-bordered\">\n",
    "<tr>\n",
    "<th style=\"width:5%\">SN</th><th style=\"width:95%\">Function with Description</th></tr>\n",
    "<tr><td>1</td><td><p><a href=\"https://www.tutorialspoint.com/python/dictionary_cmp.htm\">cmp(dict1, dict2)</a></p><p>Compares elements of both dict.</p></td></tr>\n",
    "<tr><td>2</td><td><p><a href=\"https://www.tutorialspoint.com/python/dictionary_len.htm\">len(dict)</a></p><p>Gives the total length of the dictionary. This would be equal to the number of items in the dictionary.</p></td></tr>\n",
    "<tr><td>3</td><td><p><a href=\"https://www.tutorialspoint.com/python/dictionary_str.htm\">str(dict)</a></p><p>Produces a printable string representation of a dictionary</p></td></tr>\n",
    "<tr><td>4</td><td><p><a href=\"https://www.tutorialspoint.com/python/dictionary_type.htm\">type(variable)</a></p><p>Returns the type of the passed variable. If passed variable is dictionary, then it would return a dictionary type.</p></td></tr>\n",
    "</table>\n",
    "<p>Python includes following dictionary methods &minus;</p>\n",
    "<table class=\"table table-bordered\">\n",
    "<tr>\n",
    "<th style=\"width:5%\">SN</th><th style=\"width:95%\">Methods with Description</th></tr>\n",
    "<tr><td>1</td><td><p><a href=\"https://www.tutorialspoint.com/python/dictionary_clear.htm\">dict.clear()</a></p><p>Removes all elements of dictionary <i>dict</i></p></td></tr>\n",
    "<tr><td>2</td><td><p><a href=\"https://www.tutorialspoint.com/python/dictionary_copy.htm\">dict.copy()</a></p><p>Returns a shallow copy of dictionary <i>dict</i></p></td></tr>\n",
    "<tr><td>3</td><td><p><a href=\"https://www.tutorialspoint.com/python/dictionary_fromkeys.htm\">dict.fromkeys()</a></p><p> Create a new dictionary with keys from seq and values <i>set</i> to <i>value</i>.</p></td></tr>\n",
    "<tr><td>4</td><td><p><a href=\"https://www.tutorialspoint.com/python/dictionary_get.htm\">dict.get(key, default=None)</a></p><p>For <i>key</i> key, returns value or default if key not in dictionary</p></td></tr>\n",
    "<tr><td>5</td><td><p><a href=\"https://www.tutorialspoint.com/python/dictionary_has_key.htm\">dict.has_key(key)</a></p><p>Returns <i>true</i> if key in dictionary <i>dict</i>, <i>false</i> otherwise</p></td></tr>\n",
    "<tr><td>6</td><td><p><a href=\"https://www.tutorialspoint.com/python/dictionary_items.htm\">dict.items()</a></p><p>Returns a list of <i>dict</i>'s (key, value) tuple pairs</p></td></tr>\n",
    "<tr><td>7</td><td><p><a href=\"https://www.tutorialspoint.com/python/dictionary_keys.htm\">dict.keys()</a></p><p>Returns list of dictionary dict's keys</p></td></tr>\n",
    "<tr><td>8</td><td><p><a href=\"https://www.tutorialspoint.com/python/dictionary_setdefault.htm\">dict.setdefault(key, default=None)</a></p><p>Similar to get(), but will set dict[key]=default if <i>key</i> is not already in dict</p></td></tr>\n",
    "<tr><td>9</td><td><p><a href=\"https://www.tutorialspoint.com/python/dictionary_update.htm\">dict.update(dict2)</a></p><p>Adds dictionary <i>dict2</i>'s key-values pairs to <i>dict</i></p></td></tr>\n",
    "<tr><td>10</td><td><p><a href=\"https://www.tutorialspoint.com/python/dictionary_values.htm\">dict.values()</a></p><p>Returns list of dictionary <i>dict</i>'s values</p></td></tr>\n",
    "</table>"
   ]
  }
 ],
 "metadata": {
  "kernelspec": {
   "display_name": "Python 2",
   "language": "python",
   "name": "python2"
  },
  "language_info": {
   "codemirror_mode": {
    "name": "ipython",
    "version": 2
   },
   "file_extension": ".py",
   "mimetype": "text/x-python",
   "name": "python",
   "nbconvert_exporter": "python",
   "pygments_lexer": "ipython2",
   "version": "2.7.12"
  }
 },
 "nbformat": 4,
 "nbformat_minor": 2
}
